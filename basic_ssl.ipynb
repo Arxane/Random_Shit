{
 "cells": [
  {
   "cell_type": "code",
   "execution_count": 31,
   "id": "a4a1f323",
   "metadata": {},
   "outputs": [],
   "source": [
    "import torch\n",
    "import torch.nn as nn\n",
    "import torch.nn.functional as F\n",
    "from torchvision import transforms, datasets, models\n",
    "import torch.optim as optim\n",
    "import random\n",
    "from torch.utils.data import Dataset, DataLoader\n",
    "from tqdm import tqdm"
   ]
  },
  {
   "cell_type": "code",
   "execution_count": 32,
   "id": "bbba8d69",
   "metadata": {},
   "outputs": [],
   "source": [
    "augmentation = transforms.Compose([\n",
    "    transforms.RandomResizedCrop(32),\n",
    "    transforms.RandomHorizontalFlip(),\n",
    "    transforms.ColorJitter(0.4, 0.4, 0.4, 0.1),\n",
    "    transforms.ToTensor()\n",
    "])"
   ]
  },
  {
   "cell_type": "code",
   "execution_count": 33,
   "id": "c79c95f1",
   "metadata": {},
   "outputs": [],
   "source": [
    "class SSLDataset(Dataset):\n",
    "    def __init__(self, base_dataset, transform):\n",
    "        self.dataset = base_dataset\n",
    "        self.transform = transform\n",
    "\n",
    "    def __len__(self):\n",
    "        return len(self.dataset)\n",
    "    \n",
    "    def __getitem__(self, index):\n",
    "        img, _ = self.dataset[index]\n",
    "        img1 = self.transform(img)\n",
    "        img2 = self.transform(img)\n",
    "        return img1, img2"
   ]
  },
  {
   "cell_type": "code",
   "execution_count": 34,
   "id": "8d9bbb37",
   "metadata": {},
   "outputs": [
    {
     "name": "stdout",
     "output_type": "stream",
     "text": [
      "Files already downloaded and verified\n"
     ]
    }
   ],
   "source": [
    "base_dataset = datasets.CIFAR10(root='./cifar10', train=True, download=True)\n",
    "ssl_dataset = SSLDataset(base_dataset=base_dataset, transform=augmentation)\n",
    "dataloader = DataLoader(dataset=ssl_dataset, batch_size=16, shuffle=True)\n"
   ]
  },
  {
   "cell_type": "code",
   "execution_count": 35,
   "id": "7e40a9aa",
   "metadata": {},
   "outputs": [
    {
     "name": "stdout",
     "output_type": "stream",
     "text": [
      "torch.Size([16, 3, 32, 32]) torch.Size([16, 3, 32, 32])\n"
     ]
    }
   ],
   "source": [
    "for img1, img2 in dataloader:\n",
    "    print(img1.shape, img2.shape)\n",
    "    break"
   ]
  },
  {
   "cell_type": "code",
   "execution_count": 36,
   "id": "9ac76c0b",
   "metadata": {},
   "outputs": [],
   "source": [
    "class ssl_model(nn.Module):\n",
    "    def __init__(self, base_encoder, feature_dim=128):\n",
    "        super().__init__()\n",
    "        self.encoder = base_encoder\n",
    "        self.feature_dim = feature_dim\n",
    "        self.encoder.fc = nn.Identity()\n",
    "        self.projection = nn.Sequential(\n",
    "            nn.Linear(512, 256),\n",
    "            nn.ReLU(),\n",
    "            nn.Linear(256, feature_dim)\n",
    "        )\n",
    "    \n",
    "    def forward(self, x):\n",
    "        h = self.encoder(x)\n",
    "        out= self.projection(h)\n",
    "        return F.normalize(out, dim=1)"
   ]
  },
  {
   "cell_type": "code",
   "execution_count": 37,
   "id": "ef2b015c",
   "metadata": {},
   "outputs": [],
   "source": [
    "def contrastive_loss(z1, z2, temperature=0.5):\n",
    "    batch_size = z1.size(0)\n",
    "    z1, z2 = F.normalize(z1,dim=1), F.normalize(z2, dim=1)\n",
    "\n",
    "    sim_matrix = (z1 @ z2.T)/temperature\n",
    "\n",
    "    labels = torch.arange(0, batch_size).to(z1.device)\n",
    "    loss1 = F.cross_entropy(sim_matrix, labels)\n",
    "    loss2 = F.cross_entropy(sim_matrix.T, labels)\n",
    "    return (loss1 + loss2)/2"
   ]
  },
  {
   "cell_type": "code",
   "execution_count": 40,
   "id": "054fa95f",
   "metadata": {},
   "outputs": [
    {
     "name": "stdout",
     "output_type": "stream",
     "text": [
      "Using device: cuda\n"
     ]
    },
    {
     "name": "stderr",
     "output_type": "stream",
     "text": [
      "C:\\Users\\mayan\\AppData\\Local\\Packages\\PythonSoftwareFoundation.Python.3.11_qbz5n2kfra8p0\\LocalCache\\local-packages\\Python311\\site-packages\\torchvision\\models\\_utils.py:208: UserWarning: The parameter 'pretrained' is deprecated since 0.13 and may be removed in the future, please use 'weights' instead.\n",
      "  warnings.warn(\n",
      "C:\\Users\\mayan\\AppData\\Local\\Packages\\PythonSoftwareFoundation.Python.3.11_qbz5n2kfra8p0\\LocalCache\\local-packages\\Python311\\site-packages\\torchvision\\models\\_utils.py:223: UserWarning: Arguments other than a weight enum or `None` for 'weights' are deprecated since 0.13 and may be removed in the future. The current behavior is equivalent to passing `weights=None`.\n",
      "  warnings.warn(msg)\n"
     ]
    }
   ],
   "source": [
    "device = 'cuda' if torch.cuda.is_available() else 'cpu'\n",
    "print(f\"Using device: {device}\")\n",
    "\n",
    "encoder = models.resnet18(pretrained=False)\n",
    "model = ssl_model(encoder).to(device)\n",
    "\n",
    "optimizer = optim.Adam(model.parameters(), lr=1e-5)"
   ]
  },
  {
   "cell_type": "code",
   "execution_count": 41,
   "id": "f4838696",
   "metadata": {},
   "outputs": [
    {
     "name": "stderr",
     "output_type": "stream",
     "text": [
      "                                                              \r"
     ]
    },
    {
     "name": "stdout",
     "output_type": "stream",
     "text": [
      "Epoch [1/5] Loss: 2.1615\n"
     ]
    },
    {
     "name": "stderr",
     "output_type": "stream",
     "text": [
      "                                                              \r"
     ]
    },
    {
     "name": "stdout",
     "output_type": "stream",
     "text": [
      "Epoch [2/5] Loss: 1.9401\n"
     ]
    },
    {
     "name": "stderr",
     "output_type": "stream",
     "text": [
      "                                                              \r"
     ]
    },
    {
     "name": "stdout",
     "output_type": "stream",
     "text": [
      "Epoch [3/5] Loss: 1.8685\n"
     ]
    },
    {
     "name": "stderr",
     "output_type": "stream",
     "text": [
      "                                                              \r"
     ]
    },
    {
     "name": "stdout",
     "output_type": "stream",
     "text": [
      "Epoch [4/5] Loss: 1.8247\n"
     ]
    },
    {
     "name": "stderr",
     "output_type": "stream",
     "text": [
      "                                                              "
     ]
    },
    {
     "name": "stdout",
     "output_type": "stream",
     "text": [
      "Epoch [5/5] Loss: 1.7886\n"
     ]
    },
    {
     "name": "stderr",
     "output_type": "stream",
     "text": [
      "\r"
     ]
    }
   ],
   "source": [
    "epochs = 5\n",
    "\n",
    "\n",
    "for epoch in range(epochs):\n",
    "    total_loss = 0\n",
    "    for img1, img2 in tqdm(dataloader, desc=f\"Epoch {epoch+1}/{epochs}\", leave=False):\n",
    "        img1, img2 = img1.to(device), img2.to(device)\n",
    "        z1, z2 = model(img1), model(img2)\n",
    "        loss = contrastive_loss(z1, z2)\n",
    "\n",
    "        optimizer.zero_grad()\n",
    "        loss.backward()\n",
    "        optimizer.step()\n",
    "        total_loss += loss.item()\n",
    "    print(f\"Epoch [{epoch+1}/{epochs}] Loss: {total_loss/len(dataloader):.4f}\")\n",
    "    \n"
   ]
  },
  {
   "cell_type": "code",
   "execution_count": 43,
   "id": "ed8fb578",
   "metadata": {},
   "outputs": [
    {
     "name": "stdout",
     "output_type": "stream",
     "text": [
      "tensor([[11.8956,  0.0000,  4.1875,  ...,  0.0000,  0.0000,  0.0000],\n",
      "        [12.9802,  0.0000,  3.9722,  ...,  0.0000,  0.0000,  0.0000],\n",
      "        [ 8.6505,  0.0000,  8.3821,  ...,  0.0000,  0.0000,  0.0000],\n",
      "        ...,\n",
      "        [12.1100,  0.0000,  9.9017,  ...,  0.0000,  0.0000,  0.0000],\n",
      "        [ 5.4509,  0.0000,  4.2205,  ...,  0.0000,  0.0000,  0.0000],\n",
      "        [12.2686,  0.0000,  6.2323,  ...,  0.0000,  1.2629,  0.0000]],\n",
      "       device='cuda:0', grad_fn=<ViewBackward0>)\n",
      "torch.Size([10, 512])\n"
     ]
    }
   ],
   "source": [
    "encoder.eval()\n",
    "embeddings = encoder(torch.randn(10, 3, 32, 32).to(device))\n",
    "print(embeddings)\n",
    "print(embeddings.shape)"
   ]
  },
  {
   "cell_type": "code",
   "execution_count": 48,
   "id": "ef47ec95",
   "metadata": {},
   "outputs": [
    {
     "data": {
      "image/png": "[encoded data removed]",
      "text/plain": [
       "<Figure size 800x600 with 1 Axes>"
      ]
     },
     "metadata": {},
     "output_type": "display_data"
    }
   ],
   "source": [
    "import matplotlib.pyplot as plt\n",
    "from sklearn.manifold import TSNE\n",
    "\n",
    "emb = embeddings.detach().cpu().numpy()\n",
    "\n",
    "# Adjust perplexity: must be < number of samples\n",
    "perplexity = min(5, len(emb) - 1)  # automatically handles small batches\n",
    "tsne = TSNE(n_components=2, perplexity=perplexity, random_state=42)\n",
    "emb_2d = tsne.fit_transform(emb)\n",
    "\n",
    "plt.figure(figsize=(8, 6))\n",
    "plt.scatter(emb_2d[:, 0], emb_2d[:, 1], s=50, alpha=0.8, edgecolors='k')\n",
    "plt.title(f\"t-SNE Embedding Visualization (perplexity={perplexity})\")\n",
    "plt.xlabel(\"Dimension 1\")\n",
    "plt.ylabel(\"Dimension 2\")\n",
    "plt.grid(True, linestyle=\"--\", alpha=0.5)\n",
    "plt.show()\n"
   ]
  }
 ],
 "metadata": {
  "kernelspec": {
   "display_name": "Python 3",
   "language": "python",
   "name": "python3"
  },
  "language_info": {
   "codemirror_mode": {
    "name": "ipython",
    "version": 3
   },
   "file_extension": ".py",
   "mimetype": "text/x-python",
   "name": "python",
   "nbconvert_exporter": "python",
   "pygments_lexer": "ipython3",
   "version": "3.11.9"
  }
 },
 "nbformat": 4,
 "nbformat_minor": 5
}
